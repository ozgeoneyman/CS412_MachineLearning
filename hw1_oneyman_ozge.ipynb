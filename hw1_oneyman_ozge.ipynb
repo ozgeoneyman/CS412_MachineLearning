{
  "cells": [
    {
      "cell_type": "markdown",
      "metadata": {
        "id": "voHKcAfRfdNY"
      },
      "source": [
        "# **CS412 - Machine Learning - 2022 Summer**\n",
        "## **Homework 1**\n",
        "100 pts + 10pts(bonus section)\n",
        "\n",
        "\n",
        "## **Goal**\n",
        "\n",
        "The goal of this homework is three-fold:\n",
        "\n",
        "*   Introduction to the machine learning experimental set up \n",
        "*   Gain experience with Decision tree approach\n",
        "*   Gain experience with the Scikit library\n",
        "\n",
        "## **Dataset**\n",
        "This dataset is taken from the following Kaggle link and simplified for the Homework 1: https://www.kaggle.com/arashnic/hr-analytics-job-change-of-data-scientists?select=aug_train.csv\n",
        "\n",
        "**Download the data from Sucourse.**\n",
        "You must use 20% of the data for validation and 20% for test: **Training: 60%, Validation: 20%, Test: 20%**\n",
        "\n",
        "## **Task**\n",
        "Build a decision tree classifier with the scikit library function calls to predict whether a data scientist candidate is going to look for a new job or will work for the company - **target column** is the target variable.\n",
        "\n",
        "**You should check the documentation \"cs412_hw1_desc\" to understand the task wholly.**\n",
        "\n",
        "## **Software: You may find the necessary function references here:**\n",
        "http://scikit-learn.org/stable/supervised_learning.html\n",
        "\n",
        "## **Submission:**\n",
        "Fill this notebook and submit this document with a link to #your Colab notebook \n",
        "(make sure to include the link obtained from the #share link on top right)\n"
      ]
    },
    {
      "cell_type": "markdown",
      "metadata": {
        "id": "_YOYiWvHbNDW"
      },
      "source": [
        "## 0) Initialize\n",
        "\n",
        "*   First make a copy of the notebook given to you as a starter.\n",
        "\n",
        "*   Make sure you choose Connect form upper right.\n",
        "\n",
        "*   You may upload the data to the section on your left on Colab, than right click on the .csv file and get the path of the file by clicking on \"Copy Path\". You will be using it when loading the data.\n"
      ]
    },
    {
      "cell_type": "markdown",
      "source": [],
      "metadata": {
        "id": "FY5Hqzqohuad"
      }
    },
    {
      "cell_type": "markdown",
      "metadata": {
        "id": "1Pxt5hs72KVM"
      },
      "source": [
        "## 1) Import Necessary Libraries"
      ]
    },
    {
      "cell_type": "code",
      "execution_count": null,
      "metadata": {
        "id": "hf5uweT82KVN",
        "colab": {
          "base_uri": "https://localhost:8080/"
        },
        "outputId": "f0aca6ea-9d9c-4fed-a808-dc7c9d48984c"
      },
      "outputs": [
        {
          "output_type": "stream",
          "name": "stdout",
          "text": [
            "Mounted at /content/drive\n"
          ]
        }
      ],
      "source": [
        "from google.colab import drive\n",
        "drive.mount('/content/drive')\n",
        "\n",
        "import pandas as pd\n",
        "import numpy as np\n",
        "\n"
      ]
    },
    {
      "cell_type": "markdown",
      "metadata": {
        "id": "MM-wwHR8qL0M"
      },
      "source": [
        "## 2) Load training dataset\n",
        "\n",
        "*  Read the .csv file with pandas library\n",
        "\n"
      ]
    },
    {
      "cell_type": "code",
      "execution_count": null,
      "metadata": {
        "id": "Iz3iMpjVfa5I"
      },
      "outputs": [],
      "source": [
        "# Read data\n",
        "\n",
        "datascientist = pd.read_csv('/content/data_scientist_job_change.csv')"
      ]
    },
    {
      "cell_type": "markdown",
      "metadata": {
        "id": "8NdW2ItjHLxJ"
      },
      "source": [
        "## 3) Understanding the dataset\n",
        "\n",
        "There are alot of functions that can be used to know more about this dataset\n",
        "\n",
        "- What is the shape of the training set (num of samples X number of attributes) ***[shape function can be used]***\n",
        "\n",
        "- Display attribute names ***[columns function can be used]***\n",
        "\n",
        "- Display the first 5 rows from training dataset ***[head or sample functions can be used]***\n",
        "\n",
        "- Display number of nan values on each column ***[.isna() method can be used]***\n",
        "\n",
        "Note: Understanding the features, possibly removing some features etc. is an important part in building an ML system, but for this homework this is not really necessary as the features are already transformed and simplified.\n"
      ]
    },
    {
      "cell_type": "code",
      "execution_count": null,
      "metadata": {
        "id": "CA_AjGQasjvS",
        "colab": {
          "base_uri": "https://localhost:8080/"
        },
        "outputId": "802ba942-ba41-4f8f-829c-0a7cd802d15d"
      },
      "outputs": [
        {
          "output_type": "stream",
          "name": "stdout",
          "text": [
            "Data Dimensionality:  2\n",
            "Head of Data:     city_development_index  relevent_experience  education_level  experience  \\\n",
            "0                   0.920                    1              2.0        25.0   \n",
            "1                   0.776                    0              2.0        15.0   \n",
            "2                   0.624                    0              2.0         5.0   \n",
            "3                   0.789                    0              2.0         0.0   \n",
            "4                   0.767                    1              3.0        25.0   \n",
            "\n",
            "   training_hours  target  \n",
            "0              36     1.0  \n",
            "1              47     0.0  \n",
            "2              83     0.0  \n",
            "3              52     1.0  \n",
            "4               8     0.0  \n",
            "NaN values:         city_development_index  relevent_experience  education_level  \\\n",
            "0                       False                False            False   \n",
            "1                       False                False            False   \n",
            "2                       False                False            False   \n",
            "3                       False                False            False   \n",
            "4                       False                False            False   \n",
            "...                       ...                  ...              ...   \n",
            "19153                   False                False            False   \n",
            "19154                   False                False            False   \n",
            "19155                   False                False            False   \n",
            "19156                   False                False            False   \n",
            "19157                   False                False            False   \n",
            "\n",
            "       experience  training_hours  target  \n",
            "0           False           False   False  \n",
            "1           False           False   False  \n",
            "2           False           False   False  \n",
            "3           False           False   False  \n",
            "4           False           False   False  \n",
            "...           ...             ...     ...  \n",
            "19153       False           False   False  \n",
            "19154       False           False   False  \n",
            "19155       False           False   False  \n",
            "19156       False           False   False  \n",
            "19157       False           False   False  \n",
            "\n",
            "[19158 rows x 6 columns]\n"
          ]
        }
      ],
      "source": [
        "# print shape\n",
        "print('Data Dimensionality: ',datascientist.ndim)\n",
        "\n",
        "\n",
        "\n",
        "# print first 5 rows in your dataset\n",
        "print('Head of Data: ', datascientist.head(5))\n",
        "\n",
        "\n",
        "\n",
        "# print nan values for each column\n",
        "print('NaN values: ', datascientist.isnull())\n"
      ]
    },
    {
      "cell_type": "markdown",
      "metadata": {
        "id": "-oJGgdSV2KVP"
      },
      "source": [
        "## 4) Handling Missing Data\n",
        "Simply drop the rows with NaN values or fill the NaN values with mode, median or mean value of the column. .dropna() method can be used"
      ]
    },
    {
      "cell_type": "code",
      "execution_count": null,
      "metadata": {
        "id": "Yv1TqiiY2KVP"
      },
      "outputs": [],
      "source": [
        "###\n",
        "datascientist = datascientist.dropna()"
      ]
    },
    {
      "cell_type": "code",
      "source": [
        "datascientist"
      ],
      "metadata": {
        "colab": {
          "base_uri": "https://localhost:8080/",
          "height": 424
        },
        "id": "u7ZNw1crpjqV",
        "outputId": "6f488f64-b897-4a79-b5b5-02753d57db6c"
      },
      "execution_count": null,
      "outputs": [
        {
          "output_type": "execute_result",
          "data": {
            "text/plain": [
              "       city_development_index  relevent_experience  education_level  \\\n",
              "0                       0.920                    1              2.0   \n",
              "1                       0.776                    0              2.0   \n",
              "2                       0.624                    0              2.0   \n",
              "3                       0.789                    0              2.0   \n",
              "4                       0.767                    1              3.0   \n",
              "...                       ...                  ...              ...   \n",
              "19153                   0.878                    0              2.0   \n",
              "19154                   0.920                    1              2.0   \n",
              "19155                   0.920                    1              2.0   \n",
              "19156                   0.802                    1              1.0   \n",
              "19157                   0.855                    0              0.0   \n",
              "\n",
              "       experience  training_hours  target  \n",
              "0            25.0              36     1.0  \n",
              "1            15.0              47     0.0  \n",
              "2             5.0              83     0.0  \n",
              "3             0.0              52     1.0  \n",
              "4            25.0               8     0.0  \n",
              "...           ...             ...     ...  \n",
              "19153        14.0              42     1.0  \n",
              "19154        14.0              52     1.0  \n",
              "19155        25.0              44     0.0  \n",
              "19156         0.0              97     0.0  \n",
              "19157         2.0             127     0.0  \n",
              "\n",
              "[18643 rows x 6 columns]"
            ],
            "text/html": [
              "\n",
              "  <div id=\"df-c87b3099-543a-4c30-80a7-4cf23758e03f\">\n",
              "    <div class=\"colab-df-container\">\n",
              "      <div>\n",
              "<style scoped>\n",
              "    .dataframe tbody tr th:only-of-type {\n",
              "        vertical-align: middle;\n",
              "    }\n",
              "\n",
              "    .dataframe tbody tr th {\n",
              "        vertical-align: top;\n",
              "    }\n",
              "\n",
              "    .dataframe thead th {\n",
              "        text-align: right;\n",
              "    }\n",
              "</style>\n",
              "<table border=\"1\" class=\"dataframe\">\n",
              "  <thead>\n",
              "    <tr style=\"text-align: right;\">\n",
              "      <th></th>\n",
              "      <th>city_development_index</th>\n",
              "      <th>relevent_experience</th>\n",
              "      <th>education_level</th>\n",
              "      <th>experience</th>\n",
              "      <th>training_hours</th>\n",
              "      <th>target</th>\n",
              "    </tr>\n",
              "  </thead>\n",
              "  <tbody>\n",
              "    <tr>\n",
              "      <th>0</th>\n",
              "      <td>0.920</td>\n",
              "      <td>1</td>\n",
              "      <td>2.0</td>\n",
              "      <td>25.0</td>\n",
              "      <td>36</td>\n",
              "      <td>1.0</td>\n",
              "    </tr>\n",
              "    <tr>\n",
              "      <th>1</th>\n",
              "      <td>0.776</td>\n",
              "      <td>0</td>\n",
              "      <td>2.0</td>\n",
              "      <td>15.0</td>\n",
              "      <td>47</td>\n",
              "      <td>0.0</td>\n",
              "    </tr>\n",
              "    <tr>\n",
              "      <th>2</th>\n",
              "      <td>0.624</td>\n",
              "      <td>0</td>\n",
              "      <td>2.0</td>\n",
              "      <td>5.0</td>\n",
              "      <td>83</td>\n",
              "      <td>0.0</td>\n",
              "    </tr>\n",
              "    <tr>\n",
              "      <th>3</th>\n",
              "      <td>0.789</td>\n",
              "      <td>0</td>\n",
              "      <td>2.0</td>\n",
              "      <td>0.0</td>\n",
              "      <td>52</td>\n",
              "      <td>1.0</td>\n",
              "    </tr>\n",
              "    <tr>\n",
              "      <th>4</th>\n",
              "      <td>0.767</td>\n",
              "      <td>1</td>\n",
              "      <td>3.0</td>\n",
              "      <td>25.0</td>\n",
              "      <td>8</td>\n",
              "      <td>0.0</td>\n",
              "    </tr>\n",
              "    <tr>\n",
              "      <th>...</th>\n",
              "      <td>...</td>\n",
              "      <td>...</td>\n",
              "      <td>...</td>\n",
              "      <td>...</td>\n",
              "      <td>...</td>\n",
              "      <td>...</td>\n",
              "    </tr>\n",
              "    <tr>\n",
              "      <th>19153</th>\n",
              "      <td>0.878</td>\n",
              "      <td>0</td>\n",
              "      <td>2.0</td>\n",
              "      <td>14.0</td>\n",
              "      <td>42</td>\n",
              "      <td>1.0</td>\n",
              "    </tr>\n",
              "    <tr>\n",
              "      <th>19154</th>\n",
              "      <td>0.920</td>\n",
              "      <td>1</td>\n",
              "      <td>2.0</td>\n",
              "      <td>14.0</td>\n",
              "      <td>52</td>\n",
              "      <td>1.0</td>\n",
              "    </tr>\n",
              "    <tr>\n",
              "      <th>19155</th>\n",
              "      <td>0.920</td>\n",
              "      <td>1</td>\n",
              "      <td>2.0</td>\n",
              "      <td>25.0</td>\n",
              "      <td>44</td>\n",
              "      <td>0.0</td>\n",
              "    </tr>\n",
              "    <tr>\n",
              "      <th>19156</th>\n",
              "      <td>0.802</td>\n",
              "      <td>1</td>\n",
              "      <td>1.0</td>\n",
              "      <td>0.0</td>\n",
              "      <td>97</td>\n",
              "      <td>0.0</td>\n",
              "    </tr>\n",
              "    <tr>\n",
              "      <th>19157</th>\n",
              "      <td>0.855</td>\n",
              "      <td>0</td>\n",
              "      <td>0.0</td>\n",
              "      <td>2.0</td>\n",
              "      <td>127</td>\n",
              "      <td>0.0</td>\n",
              "    </tr>\n",
              "  </tbody>\n",
              "</table>\n",
              "<p>18643 rows × 6 columns</p>\n",
              "</div>\n",
              "      <button class=\"colab-df-convert\" onclick=\"convertToInteractive('df-c87b3099-543a-4c30-80a7-4cf23758e03f')\"\n",
              "              title=\"Convert this dataframe to an interactive table.\"\n",
              "              style=\"display:none;\">\n",
              "        \n",
              "  <svg xmlns=\"http://www.w3.org/2000/svg\" height=\"24px\"viewBox=\"0 0 24 24\"\n",
              "       width=\"24px\">\n",
              "    <path d=\"M0 0h24v24H0V0z\" fill=\"none\"/>\n",
              "    <path d=\"M18.56 5.44l.94 2.06.94-2.06 2.06-.94-2.06-.94-.94-2.06-.94 2.06-2.06.94zm-11 1L8.5 8.5l.94-2.06 2.06-.94-2.06-.94L8.5 2.5l-.94 2.06-2.06.94zm10 10l.94 2.06.94-2.06 2.06-.94-2.06-.94-.94-2.06-.94 2.06-2.06.94z\"/><path d=\"M17.41 7.96l-1.37-1.37c-.4-.4-.92-.59-1.43-.59-.52 0-1.04.2-1.43.59L10.3 9.45l-7.72 7.72c-.78.78-.78 2.05 0 2.83L4 21.41c.39.39.9.59 1.41.59.51 0 1.02-.2 1.41-.59l7.78-7.78 2.81-2.81c.8-.78.8-2.07 0-2.86zM5.41 20L4 18.59l7.72-7.72 1.47 1.35L5.41 20z\"/>\n",
              "  </svg>\n",
              "      </button>\n",
              "      \n",
              "  <style>\n",
              "    .colab-df-container {\n",
              "      display:flex;\n",
              "      flex-wrap:wrap;\n",
              "      gap: 12px;\n",
              "    }\n",
              "\n",
              "    .colab-df-convert {\n",
              "      background-color: #E8F0FE;\n",
              "      border: none;\n",
              "      border-radius: 50%;\n",
              "      cursor: pointer;\n",
              "      display: none;\n",
              "      fill: #1967D2;\n",
              "      height: 32px;\n",
              "      padding: 0 0 0 0;\n",
              "      width: 32px;\n",
              "    }\n",
              "\n",
              "    .colab-df-convert:hover {\n",
              "      background-color: #E2EBFA;\n",
              "      box-shadow: 0px 1px 2px rgba(60, 64, 67, 0.3), 0px 1px 3px 1px rgba(60, 64, 67, 0.15);\n",
              "      fill: #174EA6;\n",
              "    }\n",
              "\n",
              "    [theme=dark] .colab-df-convert {\n",
              "      background-color: #3B4455;\n",
              "      fill: #D2E3FC;\n",
              "    }\n",
              "\n",
              "    [theme=dark] .colab-df-convert:hover {\n",
              "      background-color: #434B5C;\n",
              "      box-shadow: 0px 1px 3px 1px rgba(0, 0, 0, 0.15);\n",
              "      filter: drop-shadow(0px 1px 2px rgba(0, 0, 0, 0.3));\n",
              "      fill: #FFFFFF;\n",
              "    }\n",
              "  </style>\n",
              "\n",
              "      <script>\n",
              "        const buttonEl =\n",
              "          document.querySelector('#df-c87b3099-543a-4c30-80a7-4cf23758e03f button.colab-df-convert');\n",
              "        buttonEl.style.display =\n",
              "          google.colab.kernel.accessAllowed ? 'block' : 'none';\n",
              "\n",
              "        async function convertToInteractive(key) {\n",
              "          const element = document.querySelector('#df-c87b3099-543a-4c30-80a7-4cf23758e03f');\n",
              "          const dataTable =\n",
              "            await google.colab.kernel.invokeFunction('convertToInteractive',\n",
              "                                                     [key], {});\n",
              "          if (!dataTable) return;\n",
              "\n",
              "          const docLinkHtml = 'Like what you see? Visit the ' +\n",
              "            '<a target=\"_blank\" href=https://colab.research.google.com/notebooks/data_table.ipynb>data table notebook</a>'\n",
              "            + ' to learn more about interactive tables.';\n",
              "          element.innerHTML = '';\n",
              "          dataTable['output_type'] = 'display_data';\n",
              "          await google.colab.output.renderOutput(dataTable, element);\n",
              "          const docLink = document.createElement('div');\n",
              "          docLink.innerHTML = docLinkHtml;\n",
              "          element.appendChild(docLink);\n",
              "        }\n",
              "      </script>\n",
              "    </div>\n",
              "  </div>\n",
              "  "
            ]
          },
          "metadata": {},
          "execution_count": 6
        }
      ]
    },
    {
      "cell_type": "markdown",
      "metadata": {
        "id": "Vop4rwZVxh9Z"
      },
      "source": [
        "## 5) Shuffle and Split training, test and validation sets as 60%-20%-20%, respectively."
      ]
    },
    {
      "cell_type": "code",
      "execution_count": null,
      "metadata": {
        "id": "KEhk8R24xhdY",
        "colab": {
          "base_uri": "https://localhost:8080/"
        },
        "outputId": "b529acf4-acde-4f01-9a07-e3c91d8d4015"
      },
      "outputs": [
        {
          "output_type": "stream",
          "name": "stdout",
          "text": [
            "Shape of the set:  (18643, 6)\n",
            "Shape of train set:  (11185, 6)\n",
            "Shape of val set:  (3729, 6)\n",
            "Shape of test set:  (3729, 6)\n"
          ]
        }
      ],
      "source": [
        "from sklearn.utils import shuffle\n",
        "from sklearn.model_selection import train_test_split\n",
        "\n",
        "\n",
        "# Shuffle the training data and define X and y\n",
        "\n",
        "print(\"Shape of the set: \", datascientist.shape)\n",
        "      \n",
        "x, y = datascientist, datascientist.target\n",
        "\n",
        "x, y = shuffle(x,y)\n",
        "\n",
        "# Split as 60%-20%-20%\n",
        "\n",
        "x_train,x_test,y_train,y_test=train_test_split(x,y,test_size=0.2,random_state=12)\n",
        "x_train,x_val,y_train,y_val=train_test_split(x_train,y_train,test_size=0.25,random_state=12)\n",
        "\n",
        "print(\"Shape of train set: \", x_train.shape)\n",
        "print(\"Shape of val set: \", x_val.shape)\n",
        "print(\"Shape of test set: \", x_test.shape)\n"
      ]
    },
    {
      "cell_type": "markdown",
      "metadata": {
        "id": "xR1oMsPu0AV_"
      },
      "source": [
        "## 6) Train a decision tree classifier on development/train data and do model selection using the validation data\n",
        "\n",
        "* Train 5 decision tree classifiers with different values of \"min_samples_split\" which is the minimum number of samples required to split an internal node:  min_samples_split = [2, 4, 6, 8, 10]. \n",
        "* Evaluate the 5 models on validation set and choose the best one.\n",
        "* Plot the train and validation set errors for those 5 settings - on one plot. \n"
      ]
    },
    {
      "cell_type": "code",
      "execution_count": null,
      "metadata": {
        "id": "Nv6oac-T3Wy5",
        "colab": {
          "base_uri": "https://localhost:8080/",
          "height": 452
        },
        "outputId": "1a6fb5d1-9bd1-473d-865a-d54094d8bd06"
      },
      "outputs": [
        {
          "output_type": "stream",
          "name": "stdout",
          "text": [
            "For sample = 2, validation accuracy = 100.00000%\n",
            "For sample = 2, train accuracy = 100.00000%\n",
            "For sample = 4, validation accuracy = 100.00000%\n",
            "For sample = 4, train accuracy = 100.00000%\n",
            "For sample = 6, validation accuracy = 100.00000%\n",
            "For sample = 6, train accuracy = 100.00000%\n",
            "For sample = 8, validation accuracy = 100.00000%\n",
            "For sample = 8, train accuracy = 100.00000%\n",
            "For sample = 10, validation accuracy = 100.00000%\n",
            "For sample = 10, train accuracy = 100.00000%\n"
          ]
        },
        {
          "output_type": "display_data",
          "data": {
            "text/plain": [
              "<Figure size 432x288 with 1 Axes>"
            ],
            "image/png": "[encoded data removed]"
          },
          "metadata": {
            "needs_background": "light"
          }
        }
      ],
      "source": [
        "from sklearn.tree import DecisionTreeClassifier\n",
        "from sklearn.metrics import accuracy_score\n",
        "\n",
        "# Train decision tree classifiers & Evaluate on validation set\n",
        "\n",
        "min_samples_split = [2, 4, 6, 8, 10]\n",
        "val_acc=[]\n",
        "train_acc=[]\n",
        "for sample in min_samples_split:\n",
        "  dtc = DecisionTreeClassifier(min_samples_split=sample, max_depth = 20, random_state=2021)\n",
        "  dtc.fit(x_train, y_train)\n",
        "\n",
        "  pred = dtc.predict(x_val)\n",
        "  val_score = accuracy_score(y_val, pred)\n",
        "  val_acc.append(val_score)\n",
        "  pred_t= dtc.predict(x_train)\n",
        "  train_score = accuracy_score(y_train, pred_t)\n",
        "  train_acc.append(train_score)\n",
        "  print(\"For sample = %s, validation accuracy = %.5f%%\" % (sample, val_score * 100))\n",
        "  print(\"For sample = %s, train accuracy = %.5f%%\" % (sample, train_score * 100))\n",
        "\n",
        "# Plot errors\n",
        "\n",
        "import matplotlib.pyplot as plt\n",
        "plt.scatter(min_samples_split, train_acc)\n",
        "plt.plot(min_samples_split, train_acc, label = \"Train Accuracy\")\n",
        "plt.scatter(min_samples_split, val_acc)\n",
        "plt.plot(min_samples_split, val_acc, label = \"Validation Accuracy\")\n",
        "plt.xlabel('Values')\n",
        "plt.ylabel('Accuracy')\n",
        "plt.legend()\n",
        "plt.show()\n",
        "\n"
      ]
    },
    {
      "cell_type": "markdown",
      "metadata": {
        "id": "boqe46St1--f"
      },
      "source": [
        "## 7) Test your CHOSEN classifier on Test set\n",
        "\n",
        "- Apply same pre-processing as training data (probably none)\n",
        "- Predict the labels of testing data **using the best chosen SINGLE model out of the models that you have tried from step 6 (you have selected your model according to your validation results)** and report the accuracy. "
      ]
    },
    {
      "cell_type": "code",
      "execution_count": null,
      "metadata": {
        "id": "IPLke8jyFGng",
        "colab": {
          "base_uri": "https://localhost:8080/"
        },
        "outputId": "5b45aa1f-6ca3-4bde-93fa-308af2a3bdad"
      },
      "outputs": [
        {
          "output_type": "stream",
          "name": "stdout",
          "text": [
            "For sample = 2, test accuracy = 100.00000%\n"
          ]
        }
      ],
      "source": [
        "# You may want to train your BEST decision tree model on both training and validation sets. To merge these two, you may use\n",
        "# concat() method of pandas\n",
        "\n",
        "dtc = DecisionTreeClassifier(min_samples_split=min_samples_split[0], max_depth = 20, random_state=2021)\n",
        "dtc.fit(x_train, y_train)\n",
        "\n",
        "\n",
        "# test prediction using a decision tree with all default parameters and ..... min-split value\n",
        "pred = dtc.predict(x_test)\n",
        "test_score = accuracy_score(y_test, pred)\n",
        "\n",
        "\n",
        "\n",
        "# Report your accuracy\n",
        "\n",
        "print(\"For sample = %s, test accuracy = %.5f%%\" % (min_samples_split[0], test_score * 100))\n"
      ]
    },
    {
      "cell_type": "markdown",
      "metadata": {
        "id": "ApayQdshfHTL"
      },
      "source": [
        "## 8) Bonus Section: Extract the rules\n",
        "\n",
        "- Decision Tree is a rule-based algorithm and we can extract those rules and convert it to if else statements.\n",
        "- Use scikit-learn documentation and find the way to extract the rules."
      ]
    },
    {
      "cell_type": "code",
      "execution_count": null,
      "metadata": {
        "id": "knDY7QJNfHTM",
        "colab": {
          "base_uri": "https://localhost:8080/"
        },
        "outputId": "829f9bf5-4457-4184-b636-925d82b9022a"
      },
      "outputs": [
        {
          "output_type": "stream",
          "name": "stdout",
          "text": [
            "|--- feature_5 <= 0.50\n",
            "|   |--- class: 0.0\n",
            "|--- feature_5 >  0.50\n",
            "|   |--- class: 1.0\n",
            "\n"
          ]
        }
      ],
      "source": [
        "# code here\n",
        "from sklearn.tree import DecisionTreeClassifier \n",
        "from sklearn import tree\n",
        "\n",
        "dt = DecisionTreeClassifier(max_depth=3, random_state=12)\n",
        "model = dt.fit(x, y)\n",
        "rule = tree.export_text(dt)\n",
        "print(rule)"
      ]
    },
    {
      "cell_type": "markdown",
      "metadata": {
        "id": "WG3473I9dGE8"
      },
      "source": [
        "## 9) Notebook & Report \n",
        "\n",
        "**Notebook: We may just look at your notebook results; so make sure each cell is run and  outputs are on place.**\n",
        "\n",
        "**Report: Write an at most 1/2 page summary of your approach to this problem at the end of your notebook**; this should be like an abstract of a paper or the executive summary (you aim for clarity and passing on information, not going to details about known facts such as what dec. trees or dataset details are, assuming they are known to people in your research area). \n",
        "\n",
        "**Must include statements such as:**\n",
        "\n",
        "- **20pts** - The problem definition in 1-2 lines and explanation of the features (which is an ordinal variable? which is binary? etc.)\n",
        "\n",
        "- **20pts** - What type of model is Decision Tree? (Unsupervised or supervised - explanation? Classification or regression - explanation?)\n",
        "\n",
        "- **20pts** - Why do we have a seperate validation set?\n",
        " \n",
        "- **20pts** - Give the validation accuracies for different hyperparameters **in a table** and state which one you selected\n",
        " \n",
        "- **20pts** - State what your test results are with the chosen method, parameters: e.g. \"We have obtained the best results with the min sample split = .... , giving classification accuracy of …% on test data….\"\"\n",
        "\n",
        "\n",
        "The **last day for the submissions** is Monday, 1 August 2022, 12:00 AM. **Late submissions** are accepted until Wednesday, 3 August 2022, 12:00 AM with a **-10 pts penalty**.\n",
        "\n",
        "*You will get full points from here as long as you have a good (enough) summary of your work, regardless of your best performance or what you have decided to talk about in the last few lines.*\n"
      ]
    },
    {
      "cell_type": "markdown",
      "metadata": {
        "id": "NOVrzIhFm5L0"
      },
      "source": [
        "## 10) Submission\n",
        "\n",
        "Please submit your **\"share link\" INLINE in Sucourse submissions**. That is because we should be able to click on the link and go there and run (and possibly also modify) your code. \n",
        "\n",
        "For us to be able to modify, in case of errors etc, **you should get your \"share link\" as **share with anyone in edit mode** \n",
        "\n",
        " **Also submit your notebook as pdf as attachment**, choose print and save as PDF, save with hw1-lastname-firstname.pdf to facilitate grading.\n",
        "\n",
        "If you are working on your desktop, only share the pdf file of this notebook."
      ]
    },
    {
      "cell_type": "markdown",
      "metadata": {
        "id": "vGUOrh3Wdrj8"
      },
      "source": [
        "## Questions? \n",
        "\n",
        "You can and should ask all your Google Colab related questions under Forums  and feel free to answer/share your answer regarding Colab. \n",
        "\n",
        "You can also ask/answer about which functions to use and what libraries... \n",
        "\n",
        "However you should **not ask** about the core parts, that is what is validation/test, which one shd. have higher performance, what are your scores etc.\n"
      ]
    },
    {
      "cell_type": "markdown",
      "metadata": {
        "id": "9A2FB4NY9g0S"
      },
      "source": [
        "# **REPORT**\n",
        "\n",
        "Our problem in this homework is predicting if a candidate look for another job or will work for the company. Our variable y, which is target is a binary variable, because it has two categories, 1 and 0, candidate will look for a new job or not. When we look at the other variables, relevant_experience is also binary variable, again it is yes or no. education_level is ordinal, because numbers indicates educatiın levels, which are realtive type of values. The other variable are belonged the real-valued variable type. \n",
        "\n",
        "Our decision tree is an example of supervised learning. Because we have features(input) and label(output). The machine is learning from the labeled data, for our problem it is 0 or 1 and then makes the predictions according to new examples. And it is also an example for classification, because its predict a class label not a real-value. \n",
        "\n",
        "We have a sperate validation set because, in validation data, hyper-parameters are fine-tuned with this data. We are utilizing to assess how well our model performs for various combinations of hyperparameter values, and we are maintaining the model that has been trained the best.\n",
        "\n",
        "\n",
        "\n",
        "| **Hyperparameter** | **Validation Accuracy** |\n",
        "|---------------------|:-----------------------|\n",
        "|2 | 100.00000% |\n",
        "|4 | 100.00000% |\n",
        "|6 | 100.00000% |\n",
        "|8 | 100.00000% |\n",
        "|10 | 100.00000% |\n",
        "\n",
        "From the table as we see, I found the 100% accuracy on both datasets. Thus, I choose the smallest min_sample_split model, which is 2. \n",
        "\n",
        "We have obtained the best results with the min sample split = 2, giving classification accuracy of 100% on test data. \n"
      ]
    }
  ],
  "metadata": {
    "accelerator": "GPU",
    "colab": {
      "collapsed_sections": [],
      "provenance": []
    },
    "kernelspec": {
      "display_name": "Python 3.10.2 64-bit",
      "language": "python",
      "name": "python3"
    },
    "language_info": {
      "codemirror_mode": {
        "name": "ipython",
        "version": 3
      },
      "file_extension": ".py",
      "mimetype": "text/x-python",
      "name": "python",
      "nbconvert_exporter": "python",
      "pygments_lexer": "ipython3",
      "version": "3.10.2"
    },
    "vscode": {
      "interpreter": {
        "hash": "2e0789b92bf4725ec4bb936303344873afa3cd22c5e8f34fb00c89964871f5fe"
      }
    }
  },
  "nbformat": 4,
  "nbformat_minor": 0
}