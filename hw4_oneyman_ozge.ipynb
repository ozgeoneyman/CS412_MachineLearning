{
  "nbformat": 4,
  "nbformat_minor": 0,
  "metadata": {
    "colab": {
      "name": "hw4-oneyman-ozge.ipynb",
      "provenance": [],
      "toc_visible": true,
      "collapsed_sections": []
    },
    "kernelspec": {
      "name": "python3",
      "display_name": "Python 3"
    },
    "language_info": {
      "name": "python"
    }
  },
  "cells": [
    {
      "cell_type": "markdown",
      "source": [
        "**<h1> HW 4 - Özge Öneyman 24906 </h1>**\n"
      ],
      "metadata": {
        "id": "Smqmzd6HV0m1"
      }
    },
    {
      "cell_type": "markdown",
      "source": [
        "# Logistic Regression"
      ],
      "metadata": {
        "id": "B7H3Mmo2Qsqh"
      }
    },
    {
      "cell_type": "code",
      "source": [
        "import keras\n",
        "from keras.datasets import cifar10\n",
        "from keras.models import Sequential\n",
        "from keras.layers import Dense, Dropout, Conv2D, MaxPooling2D, Flatten\n",
        "from tensorflow.keras.optimizers import Adam, SGD\n",
        "import numpy as np\n",
        "from keras.datasets import mnist\n",
        "(x_train, y_train), (x_test, y_test) = mnist.load_data()"
      ],
      "metadata": {
        "id": "_P27DM9gWEKI",
        "colab": {
          "base_uri": "https://localhost:8080/"
        },
        "outputId": "c7a04630-17dd-4d03-8a65-8213357435ab"
      },
      "execution_count": 1,
      "outputs": [
        {
          "output_type": "stream",
          "name": "stdout",
          "text": [
            "Downloading data from https://storage.googleapis.com/tensorflow/tf-keras-datasets/mnist.npz\n",
            "11493376/11490434 [==============================] - 0s 0us/step\n",
            "11501568/11490434 [==============================] - 0s 0us/step\n"
          ]
        }
      ]
    },
    {
      "cell_type": "code",
      "source": [
        "x_test.shape\n"
      ],
      "metadata": {
        "colab": {
          "base_uri": "https://localhost:8080/"
        },
        "id": "aqlGzxh2WWd1",
        "outputId": "5601dbaf-5640-46c3-b352-bb06931da919"
      },
      "execution_count": 2,
      "outputs": [
        {
          "output_type": "execute_result",
          "data": {
            "text/plain": [
              "(10000, 28, 28)"
            ]
          },
          "metadata": {},
          "execution_count": 2
        }
      ]
    },
    {
      "cell_type": "code",
      "source": [
        "x_train.shape"
      ],
      "metadata": {
        "colab": {
          "base_uri": "https://localhost:8080/"
        },
        "id": "J3hItZ9SWs5e",
        "outputId": "acdafa05-bdfb-47d4-bf95-d85ebb58c77d"
      },
      "execution_count": 3,
      "outputs": [
        {
          "output_type": "execute_result",
          "data": {
            "text/plain": [
              "(60000, 28, 28)"
            ]
          },
          "metadata": {},
          "execution_count": 3
        }
      ]
    },
    {
      "cell_type": "code",
      "source": [
        "from matplotlib import pyplot\n",
        "for i in range(9):\n",
        "\tpyplot.subplot(330 + 1 + i)\n",
        "\tpyplot.imshow(x_train[i], cmap=pyplot.get_cmap('gray'))\n",
        "pyplot.show()"
      ],
      "metadata": {
        "colab": {
          "base_uri": "https://localhost:8080/",
          "height": 267
        },
        "id": "w6OmUxfjWjJr",
        "outputId": "02b0cde4-ffd7-4f52-fe2c-449e2dbf555e"
      },
      "execution_count": 4,
      "outputs": [
        {
          "output_type": "display_data",
          "data": {
            "text/plain": [
              "<Figure size 432x288 with 9 Axes>"
            ],
            "image/png": "[encoded data removed]"
          },
          "metadata": {
            "needs_background": "light"
          }
        }
      ]
    },
    {
      "cell_type": "code",
      "source": [
        "x_train = x_train.astype('float32')\n",
        "x_test = x_test.astype('float32')\n",
        "x_train /= 255\n",
        "x_test /= 255\n",
        "\n",
        "# Reshape the data (flattening)\n",
        "trainSz = x_train.shape\n",
        "print(trainSz)\n",
        "x_train_flat = x_train.reshape(trainSz[0], trainSz[1]*trainSz[2])\n",
        "\n",
        "testSz = x_test.shape\n",
        "x_test_flat = x_test.reshape(testSz[0], testSz[1]*testSz[2])\n",
        "\n",
        "print(x_train.shape, x_test.shape, x_train_flat.shape, x_test_flat.shape)"
      ],
      "metadata": {
        "colab": {
          "base_uri": "https://localhost:8080/"
        },
        "id": "o4J-UaeSW95J",
        "outputId": "f962aca9-68b6-4d29-c45a-df6440c41f25"
      },
      "execution_count": 5,
      "outputs": [
        {
          "output_type": "stream",
          "name": "stdout",
          "text": [
            "(60000, 28, 28)\n",
            "(60000, 28, 28) (10000, 28, 28) (60000, 784) (10000, 784)\n"
          ]
        }
      ]
    },
    {
      "cell_type": "code",
      "source": [
        "y_train = np.where(y_train==3,1,0)\n",
        "y_test = np.where(y_test==3,1,0)"
      ],
      "metadata": {
        "id": "ioSRgWrp5L1w"
      },
      "execution_count": 6,
      "outputs": []
    },
    {
      "cell_type": "code",
      "source": [
        "from sklearn.model_selection import train_test_split\n",
        "x_train, x_val, x_train_flat, x_val_flat, y_train, y_val = train_test_split(x_train, x_train_flat, y_train, test_size=0.2, random_state=2021)\n",
        "# Final shape of the data\n",
        "x_train.shape, x_train_flat.shape, y_train.shape"
      ],
      "metadata": {
        "colab": {
          "base_uri": "https://localhost:8080/"
        },
        "id": "xIIO25x-tePI",
        "outputId": "9121e381-661e-4f25-c5b1-1d47ff21895d"
      },
      "execution_count": 7,
      "outputs": [
        {
          "output_type": "execute_result",
          "data": {
            "text/plain": [
              "((48000, 28, 28), (48000, 784), (48000,))"
            ]
          },
          "metadata": {},
          "execution_count": 7
        }
      ]
    },
    {
      "cell_type": "code",
      "source": [
        "from sklearn.linear_model import LogisticRegression\n",
        "\n",
        "lr = LogisticRegression(solver='lbfgs', max_iter=1000)\n",
        "lr.fit(x_train_flat, y_train)"
      ],
      "metadata": {
        "colab": {
          "base_uri": "https://localhost:8080/"
        },
        "id": "Y0ea061uulbw",
        "outputId": "538a4936-80cb-4d70-b830-c20a63a31c79"
      },
      "execution_count": 8,
      "outputs": [
        {
          "output_type": "execute_result",
          "data": {
            "text/plain": [
              "LogisticRegression(max_iter=1000)"
            ]
          },
          "metadata": {},
          "execution_count": 8
        }
      ]
    },
    {
      "cell_type": "code",
      "source": [
        "\n",
        "y_pred_valid_lr = lr.predict(x_train_flat)\n",
        "\n",
        "y_valid_majority = np.full(y_val.shape, 0)\n",
        "\n",
        "y_valid_majority"
      ],
      "metadata": {
        "colab": {
          "base_uri": "https://localhost:8080/"
        },
        "id": "U8_vheQ9vsI6",
        "outputId": "d7bf519a-4ee5-47ec-8d15-0659466f8828"
      },
      "execution_count": 9,
      "outputs": [
        {
          "output_type": "execute_result",
          "data": {
            "text/plain": [
              "array([0, 0, 0, ..., 0, 0, 0])"
            ]
          },
          "metadata": {},
          "execution_count": 9
        }
      ]
    },
    {
      "cell_type": "code",
      "source": [
        "from sklearn.metrics import accuracy_score\n",
        "\n",
        "accuracy_score(y_train, y_pred_valid_lr)"
      ],
      "metadata": {
        "colab": {
          "base_uri": "https://localhost:8080/"
        },
        "id": "pDf7iDgLhaAN",
        "outputId": "6480fd7d-c24c-43d5-c299-1708f80880a3"
      },
      "execution_count": 10,
      "outputs": [
        {
          "output_type": "execute_result",
          "data": {
            "text/plain": [
              "0.9770833333333333"
            ]
          },
          "metadata": {},
          "execution_count": 10
        }
      ]
    },
    {
      "cell_type": "code",
      "source": [
        "accuracy_score(y_val, y_valid_majority)"
      ],
      "metadata": {
        "colab": {
          "base_uri": "https://localhost:8080/"
        },
        "id": "s-WztxOAwLbv",
        "outputId": "c787d11a-14b5-4270-9a2b-da8afa67b69a"
      },
      "execution_count": 11,
      "outputs": [
        {
          "output_type": "execute_result",
          "data": {
            "text/plain": [
              "0.8995833333333333"
            ]
          },
          "metadata": {},
          "execution_count": 11
        }
      ]
    },
    {
      "cell_type": "code",
      "source": [
        "lr = LogisticRegression(solver='lbfgs', max_iter=1000)\n",
        "lr.fit(x_test_flat, y_test)\n"
      ],
      "metadata": {
        "colab": {
          "base_uri": "https://localhost:8080/"
        },
        "id": "5LyDcr5zw9FH",
        "outputId": "42c09e72-2d7e-47fd-ecec-b9a2dda38a9a"
      },
      "execution_count": 12,
      "outputs": [
        {
          "output_type": "execute_result",
          "data": {
            "text/plain": [
              "LogisticRegression(max_iter=1000)"
            ]
          },
          "metadata": {},
          "execution_count": 12
        }
      ]
    },
    {
      "cell_type": "code",
      "source": [
        "y_pred_test_lr = lr.predict(x_test_flat)\n",
        "\n",
        "\n",
        "accuracy_score(y_test, y_pred_test_lr)\n"
      ],
      "metadata": {
        "colab": {
          "base_uri": "https://localhost:8080/"
        },
        "id": "eONsSXT9xy0s",
        "outputId": "e191028d-7fa6-4e2d-8160-b690dcf7b852"
      },
      "execution_count": 13,
      "outputs": [
        {
          "output_type": "execute_result",
          "data": {
            "text/plain": [
              "0.9864"
            ]
          },
          "metadata": {},
          "execution_count": 13
        }
      ]
    },
    {
      "cell_type": "code",
      "source": [
        "from sklearn.metrics import precision_score, recall_score, f1_score, confusion_matrix\n",
        "print(\"Precision:\", precision_score(y_test,y_pred_test_lr))\n",
        "print(\"Recall:\", recall_score(y_test,y_pred_test_lr))\n",
        "print(\"F1 Score:\", f1_score(y_test,y_pred_test_lr))\n",
        "print(\"Confusion matrix:\\n\",confusion_matrix(y_test,y_pred_test_lr))"
      ],
      "metadata": {
        "colab": {
          "base_uri": "https://localhost:8080/"
        },
        "id": "FP0mmy2bx-wl",
        "outputId": "c2cf83e7-c926-4078-e9ba-4752594ac3a8"
      },
      "execution_count": 14,
      "outputs": [
        {
          "output_type": "stream",
          "name": "stdout",
          "text": [
            "Precision: 0.9629237288135594\n",
            "Recall: 0.9\n",
            "F1 Score: 0.9303991811668373\n",
            "Confusion matrix:\n",
            " [[8955   35]\n",
            " [ 101  909]]\n"
          ]
        }
      ]
    },
    {
      "cell_type": "markdown",
      "source": [
        "# Neural Networks"
      ],
      "metadata": {
        "id": "9FRN0VpoQzdE"
      }
    },
    {
      "cell_type": "code",
      "source": [
        "(x_train, y_train), (x_test, y_test) = mnist.load_data()\n",
        "x_train = x_train.astype('float32')\n",
        "x_test = x_test.astype('float32')\n",
        "x_train /= 255\n",
        "x_test /= 255\n",
        "\n",
        "# Reshape the data (flattening)\n",
        "trainSz = x_train.shape\n",
        "print(trainSz)\n",
        "x_train_flat = x_train.reshape(trainSz[0], trainSz[1]*trainSz[2])\n",
        "\n",
        "testSz = x_test.shape\n",
        "x_test_flat = x_test.reshape(testSz[0], testSz[1]*testSz[2])\n",
        "\n",
        "print(x_train.shape, x_test.shape, x_train_flat.shape, x_test_flat.shape)"
      ],
      "metadata": {
        "colab": {
          "base_uri": "https://localhost:8080/"
        },
        "id": "AMp7aheyRvSR",
        "outputId": "c409ae1b-17be-495c-d6cd-583beb4d1825"
      },
      "execution_count": 15,
      "outputs": [
        {
          "output_type": "stream",
          "name": "stdout",
          "text": [
            "(60000, 28, 28)\n",
            "(60000, 28, 28) (10000, 28, 28) (60000, 784) (10000, 784)\n"
          ]
        }
      ]
    },
    {
      "cell_type": "code",
      "source": [
        "from sklearn import preprocessing\n",
        "le = preprocessing.LabelEncoder()\n",
        "y_train = le.fit_transform(y_train)\n",
        "y_train"
      ],
      "metadata": {
        "colab": {
          "base_uri": "https://localhost:8080/"
        },
        "id": "BqytYjvBRxHD",
        "outputId": "86ab6658-ddc1-4d7f-de27-4b7676df60d1"
      },
      "execution_count": 16,
      "outputs": [
        {
          "output_type": "execute_result",
          "data": {
            "text/plain": [
              "array([5, 0, 4, ..., 5, 6, 8])"
            ]
          },
          "metadata": {},
          "execution_count": 16
        }
      ]
    },
    {
      "cell_type": "code",
      "source": [
        "le = preprocessing.LabelEncoder()\n",
        "y_train = le.fit_transform(y_train)\n",
        "y_test"
      ],
      "metadata": {
        "colab": {
          "base_uri": "https://localhost:8080/"
        },
        "id": "DIsYuPmKUaUo",
        "outputId": "13bd4428-8574-419d-e59d-467a77838516"
      },
      "execution_count": 17,
      "outputs": [
        {
          "output_type": "execute_result",
          "data": {
            "text/plain": [
              "array([7, 2, 1, ..., 4, 5, 6], dtype=uint8)"
            ]
          },
          "metadata": {},
          "execution_count": 17
        }
      ]
    },
    {
      "cell_type": "markdown",
      "source": [
        "**Fit the training data on a Neural Network with 64-32-16 units**"
      ],
      "metadata": {
        "id": "1uTClkb0b2bo"
      }
    },
    {
      "cell_type": "code",
      "source": [
        "model = Sequential()\n",
        "model.add(Dense(64, activation='relu', input_shape=(x_train_flat.shape[1],), name='hidden_layer1'))\n",
        "model.add(Dense(32, activation='relu', name='hidden_layer2'))\n",
        "model.add(Dense(16, activation='softmax', name='output_layer'))\n",
        "model.summary()"
      ],
      "metadata": {
        "colab": {
          "base_uri": "https://localhost:8080/"
        },
        "id": "v-vNCmMJWJUW",
        "outputId": "31088906-b43e-4876-bd7d-b5d079271879"
      },
      "execution_count": 18,
      "outputs": [
        {
          "output_type": "stream",
          "name": "stdout",
          "text": [
            "Model: \"sequential\"\n",
            "_________________________________________________________________\n",
            " Layer (type)                Output Shape              Param #   \n",
            "=================================================================\n",
            " hidden_layer1 (Dense)       (None, 64)                50240     \n",
            "                                                                 \n",
            " hidden_layer2 (Dense)       (None, 32)                2080      \n",
            "                                                                 \n",
            " output_layer (Dense)        (None, 16)                528       \n",
            "                                                                 \n",
            "=================================================================\n",
            "Total params: 52,848\n",
            "Trainable params: 52,848\n",
            "Non-trainable params: 0\n",
            "_________________________________________________________________\n"
          ]
        }
      ]
    },
    {
      "cell_type": "code",
      "source": [
        "\n",
        "model.compile(loss='sparse_categorical_crossentropy', optimizer=Adam(), metrics=['accuracy'])\n",
        "\n",
        "history = model.fit(x_train_flat, y_train, batch_size=32, epochs=15, \n",
        "                    validation_split = 0.2, \n",
        "                    verbose=1)"
      ],
      "metadata": {
        "colab": {
          "base_uri": "https://localhost:8080/"
        },
        "id": "7xE6JAR5WPWV",
        "outputId": "4ee870c4-1b08-4e84-ecf1-40da69a47382"
      },
      "execution_count": 19,
      "outputs": [
        {
          "output_type": "stream",
          "name": "stdout",
          "text": [
            "Epoch 1/15\n",
            "1500/1500 [==============================] - 7s 4ms/step - loss: 0.3445 - accuracy: 0.9006 - val_loss: 0.1722 - val_accuracy: 0.9513\n",
            "Epoch 2/15\n",
            "1500/1500 [==============================] - 5s 3ms/step - loss: 0.1538 - accuracy: 0.9549 - val_loss: 0.1403 - val_accuracy: 0.9593\n",
            "Epoch 3/15\n",
            "1500/1500 [==============================] - 5s 3ms/step - loss: 0.1124 - accuracy: 0.9673 - val_loss: 0.1257 - val_accuracy: 0.9615\n",
            "Epoch 4/15\n",
            "1500/1500 [==============================] - 4s 3ms/step - loss: 0.0891 - accuracy: 0.9728 - val_loss: 0.1047 - val_accuracy: 0.9703\n",
            "Epoch 5/15\n",
            "1500/1500 [==============================] - 4s 3ms/step - loss: 0.0716 - accuracy: 0.9786 - val_loss: 0.1081 - val_accuracy: 0.9672\n",
            "Epoch 6/15\n",
            "1500/1500 [==============================] - 4s 3ms/step - loss: 0.0603 - accuracy: 0.9814 - val_loss: 0.1089 - val_accuracy: 0.9682\n",
            "Epoch 7/15\n",
            "1500/1500 [==============================] - 4s 3ms/step - loss: 0.0509 - accuracy: 0.9836 - val_loss: 0.1233 - val_accuracy: 0.9658\n",
            "Epoch 8/15\n",
            "1500/1500 [==============================] - 4s 3ms/step - loss: 0.0443 - accuracy: 0.9865 - val_loss: 0.1146 - val_accuracy: 0.9684\n",
            "Epoch 9/15\n",
            "1500/1500 [==============================] - 4s 3ms/step - loss: 0.0391 - accuracy: 0.9874 - val_loss: 0.1065 - val_accuracy: 0.9720\n",
            "Epoch 10/15\n",
            "1500/1500 [==============================] - 4s 3ms/step - loss: 0.0338 - accuracy: 0.9894 - val_loss: 0.1088 - val_accuracy: 0.9722\n",
            "Epoch 11/15\n",
            "1500/1500 [==============================] - 4s 3ms/step - loss: 0.0295 - accuracy: 0.9902 - val_loss: 0.1125 - val_accuracy: 0.9701\n",
            "Epoch 12/15\n",
            "1500/1500 [==============================] - 4s 3ms/step - loss: 0.0248 - accuracy: 0.9920 - val_loss: 0.1180 - val_accuracy: 0.9712\n",
            "Epoch 13/15\n",
            "1500/1500 [==============================] - 5s 3ms/step - loss: 0.0249 - accuracy: 0.9923 - val_loss: 0.1188 - val_accuracy: 0.9718\n",
            "Epoch 14/15\n",
            "1500/1500 [==============================] - 5s 3ms/step - loss: 0.0214 - accuracy: 0.9930 - val_loss: 0.1303 - val_accuracy: 0.9704\n",
            "Epoch 15/15\n",
            "1500/1500 [==============================] - 4s 3ms/step - loss: 0.0180 - accuracy: 0.9938 - val_loss: 0.1241 - val_accuracy: 0.9728\n"
          ]
        }
      ]
    },
    {
      "cell_type": "code",
      "source": [
        "import matplotlib.pyplot as plt\n",
        "\n",
        "plt.plot(history.history['val_accuracy'])\n",
        "plt.plot(history.history[\"accuracy\"])\n",
        "plt.ylabel('accuracy')\n",
        "plt.xlabel('epoch')\n",
        "plt.legend(['val', 'train'], loc='upper left');\n",
        "plt.show()"
      ],
      "metadata": {
        "colab": {
          "base_uri": "https://localhost:8080/",
          "height": 277
        },
        "id": "edu2bK_SXb2E",
        "outputId": "bccb82d4-227e-4a88-a294-bebcf3f43b77"
      },
      "execution_count": 20,
      "outputs": [
        {
          "output_type": "display_data",
          "data": {
            "text/plain": [
              "<Figure size 432x288 with 1 Axes>"
            ],
            "image/png": "[encoded data removed]"
          },
          "metadata": {
            "needs_background": "light"
          }
        }
      ]
    },
    {
      "cell_type": "code",
      "source": [
        "hist2 = model.fit(x_train_flat, y_train, batch_size=32, epochs=1, validation_data=(x_val_flat, y_val), \n",
        "                    verbose=1) "
      ],
      "metadata": {
        "colab": {
          "base_uri": "https://localhost:8080/"
        },
        "id": "TgXV2Y3rX4xo",
        "outputId": "52e52df9-da41-4ad3-ab5e-f46ccaa56dee"
      },
      "execution_count": 21,
      "outputs": [
        {
          "output_type": "stream",
          "name": "stdout",
          "text": [
            "1875/1875 [==============================] - 5s 3ms/step - loss: 0.0469 - accuracy: 0.9866 - val_loss: 21.3190 - val_accuracy: 0.1005\n"
          ]
        }
      ]
    },
    {
      "cell_type": "code",
      "source": [
        "model.compile(loss='sparse_categorical_crossentropy', optimizer=Adam(learning_rate=0.0001), metrics=['accuracy'])\n",
        "hist3 = model.fit(x_train_flat, y_train, batch_size=32, epochs=2, validation_data=(x_val_flat, y_val),\n",
        "                    verbose=0)"
      ],
      "metadata": {
        "id": "WedaEVp2X9aW"
      },
      "execution_count": 22,
      "outputs": []
    },
    {
      "cell_type": "code",
      "source": [
        "score = model.evaluate(x_test_flat, y_test, verbose=0)\n",
        "print('Test loss:', score[0])\n",
        "print('Test accuracy:', score[1])"
      ],
      "metadata": {
        "colab": {
          "base_uri": "https://localhost:8080/"
        },
        "id": "18VXmmx4YF5M",
        "outputId": "036be980-f6ba-461e-95a3-615971aede71"
      },
      "execution_count": 23,
      "outputs": [
        {
          "output_type": "stream",
          "name": "stdout",
          "text": [
            "Test loss: 0.09378452599048615\n",
            "Test accuracy: 0.9776999950408936\n"
          ]
        }
      ]
    },
    {
      "cell_type": "code",
      "source": [
        "y_pred = model.predict(x_test_flat)\n",
        "y_pred"
      ],
      "metadata": {
        "colab": {
          "base_uri": "https://localhost:8080/"
        },
        "id": "rajUpBZCYIoH",
        "outputId": "b6fb1e5e-3426-422e-900c-6788020548ae"
      },
      "execution_count": 24,
      "outputs": [
        {
          "output_type": "execute_result",
          "data": {
            "text/plain": [
              "array([[9.9712433e-11, 5.9690484e-09, 1.3283694e-06, ..., 2.7521964e-15,\n",
              "        6.6979856e-16, 1.7109005e-14],\n",
              "       [1.2148496e-11, 4.8927522e-08, 1.0000000e+00, ..., 4.7777885e-27,\n",
              "        2.4779304e-25, 2.3627499e-28],\n",
              "       [3.7076606e-11, 9.9995708e-01, 1.8845574e-07, ..., 9.1876056e-17,\n",
              "        9.1746916e-15, 1.0403066e-15],\n",
              "       ...,\n",
              "       [4.4015125e-16, 4.0714448e-10, 2.3091985e-19, ..., 9.6708239e-26,\n",
              "        9.3736523e-24, 5.0933950e-23],\n",
              "       [6.5616065e-18, 1.4857020e-11, 1.8894031e-15, ..., 1.2256098e-21,\n",
              "        1.5266851e-24, 1.2758524e-22],\n",
              "       [6.2266828e-12, 3.3843842e-14, 4.1737871e-18, ..., 2.4992468e-29,\n",
              "        4.9458338e-29, 8.4847897e-30]], dtype=float32)"
            ]
          },
          "metadata": {},
          "execution_count": 24
        }
      ]
    },
    {
      "cell_type": "code",
      "source": [
        "y_pred_ = np.argmax(y_pred, axis = 1)\n",
        "y_pred_"
      ],
      "metadata": {
        "colab": {
          "base_uri": "https://localhost:8080/"
        },
        "id": "JkRW8lRzYNT0",
        "outputId": "145b7840-7976-4c8e-c3ae-0b6307ba4c18"
      },
      "execution_count": 25,
      "outputs": [
        {
          "output_type": "execute_result",
          "data": {
            "text/plain": [
              "array([7, 2, 1, ..., 4, 5, 6])"
            ]
          },
          "metadata": {},
          "execution_count": 25
        }
      ]
    },
    {
      "cell_type": "code",
      "source": [
        "from sklearn.metrics import accuracy_score\n",
        "accuracy_score(y_pred_,y_test)"
      ],
      "metadata": {
        "colab": {
          "base_uri": "https://localhost:8080/"
        },
        "id": "5_p8uwo1YStQ",
        "outputId": "c4cc1d94-d573-45aa-f447-5871346496eb"
      },
      "execution_count": 26,
      "outputs": [
        {
          "output_type": "execute_result",
          "data": {
            "text/plain": [
              "0.9777"
            ]
          },
          "metadata": {},
          "execution_count": 26
        }
      ]
    },
    {
      "cell_type": "code",
      "source": [
        "\n",
        "print(\"F1 Score Test:\", f1_score(y_test,y_pred_, average='macro'))"
      ],
      "metadata": {
        "colab": {
          "base_uri": "https://localhost:8080/"
        },
        "id": "BED39AtFjCQA",
        "outputId": "0ce8904b-c5c2-4a5b-8026-b421686b377b"
      },
      "execution_count": 27,
      "outputs": [
        {
          "output_type": "stream",
          "name": "stdout",
          "text": [
            "F1 Score Test: 0.9775260675509754\n"
          ]
        }
      ]
    },
    {
      "cell_type": "code",
      "source": [
        "print(\"Recall for Test:\", recall_score(y_test,y_pred_, average='macro'))"
      ],
      "metadata": {
        "colab": {
          "base_uri": "https://localhost:8080/"
        },
        "id": "TSK--9k3VCxw",
        "outputId": "55a166d2-0d8f-4af6-a08e-d21535bd490d"
      },
      "execution_count": 30,
      "outputs": [
        {
          "output_type": "stream",
          "name": "stdout",
          "text": [
            "Recall for Test: 0.9774459936873848\n"
          ]
        }
      ]
    },
    {
      "cell_type": "code",
      "source": [
        "y_pred = model.predict(x_train_flat) \n",
        "y_pred_ = np.argmax(y_pred, axis = 1)\n",
        "print(\"F1 Score Training:\", f1_score(y_train,y_pred_, average='macro'))\n",
        "print(\"Recall for Training:\", recall_score(y_train,y_pred_, average='macro'))"
      ],
      "metadata": {
        "colab": {
          "base_uri": "https://localhost:8080/"
        },
        "id": "TYm-OMf-npUE",
        "outputId": "c2abf4ab-9287-4efe-ac1f-e4e5b45592d0"
      },
      "execution_count": 31,
      "outputs": [
        {
          "output_type": "stream",
          "name": "stdout",
          "text": [
            "F1 Score Training: 0.9976855160933829\n",
            "Recall for Training: 0.9976743447070907\n"
          ]
        }
      ]
    },
    {
      "cell_type": "markdown",
      "source": [
        "**Fit the training data on a Neural Network with 512-10 units**"
      ],
      "metadata": {
        "id": "VplLDWEJb7Wp"
      }
    },
    {
      "cell_type": "code",
      "source": [
        "model = Sequential()\n",
        "model.add(Dense(512, activation='relu', input_shape=(x_train_flat.shape[1],), name='hidden_layer1'))\n",
        "model.add(Dense(10, activation='softmax', name='output_layer'))\n",
        "model.summary()"
      ],
      "metadata": {
        "colab": {
          "base_uri": "https://localhost:8080/"
        },
        "id": "-11N5quLZwUW",
        "outputId": "3f2c8309-e70f-44ba-d4c6-7d60417bfc6a"
      },
      "execution_count": 32,
      "outputs": [
        {
          "output_type": "stream",
          "name": "stdout",
          "text": [
            "Model: \"sequential_1\"\n",
            "_________________________________________________________________\n",
            " Layer (type)                Output Shape              Param #   \n",
            "=================================================================\n",
            " hidden_layer1 (Dense)       (None, 512)               401920    \n",
            "                                                                 \n",
            " output_layer (Dense)        (None, 10)                5130      \n",
            "                                                                 \n",
            "=================================================================\n",
            "Total params: 407,050\n",
            "Trainable params: 407,050\n",
            "Non-trainable params: 0\n",
            "_________________________________________________________________\n"
          ]
        }
      ]
    },
    {
      "cell_type": "code",
      "source": [
        "\n",
        "model.compile(loss='sparse_categorical_crossentropy', optimizer=Adam(), metrics=['accuracy'])\n",
        "\n",
        "history = model.fit(x_train_flat, y_train, batch_size=32, epochs=15, \n",
        "                    validation_split = 0.2, \n",
        "                    verbose=1)"
      ],
      "metadata": {
        "colab": {
          "base_uri": "https://localhost:8080/"
        },
        "id": "8qSzN5zfaduD",
        "outputId": "38493b26-aa22-4d55-eb7b-0caa330331a6"
      },
      "execution_count": 33,
      "outputs": [
        {
          "output_type": "stream",
          "name": "stdout",
          "text": [
            "Epoch 1/15\n",
            "1500/1500 [==============================] - 9s 6ms/step - loss: 0.2235 - accuracy: 0.9343 - val_loss: 0.1323 - val_accuracy: 0.9581\n",
            "Epoch 2/15\n",
            "1500/1500 [==============================] - 8s 5ms/step - loss: 0.0910 - accuracy: 0.9722 - val_loss: 0.0959 - val_accuracy: 0.9699\n",
            "Epoch 3/15\n",
            "1500/1500 [==============================] - 9s 6ms/step - loss: 0.0582 - accuracy: 0.9821 - val_loss: 0.0920 - val_accuracy: 0.9732\n",
            "Epoch 4/15\n",
            "1500/1500 [==============================] - 9s 6ms/step - loss: 0.0410 - accuracy: 0.9871 - val_loss: 0.0803 - val_accuracy: 0.9753\n",
            "Epoch 5/15\n",
            "1500/1500 [==============================] - 9s 6ms/step - loss: 0.0276 - accuracy: 0.9908 - val_loss: 0.1034 - val_accuracy: 0.9725\n",
            "Epoch 6/15\n",
            "1500/1500 [==============================] - 8s 6ms/step - loss: 0.0220 - accuracy: 0.9930 - val_loss: 0.0854 - val_accuracy: 0.9774\n",
            "Epoch 7/15\n",
            "1500/1500 [==============================] - 8s 6ms/step - loss: 0.0192 - accuracy: 0.9938 - val_loss: 0.0898 - val_accuracy: 0.9763\n",
            "Epoch 8/15\n",
            "1500/1500 [==============================] - 9s 6ms/step - loss: 0.0140 - accuracy: 0.9951 - val_loss: 0.0981 - val_accuracy: 0.9766\n",
            "Epoch 9/15\n",
            "1500/1500 [==============================] - 9s 6ms/step - loss: 0.0128 - accuracy: 0.9958 - val_loss: 0.0983 - val_accuracy: 0.9777\n",
            "Epoch 10/15\n",
            "1500/1500 [==============================] - 9s 6ms/step - loss: 0.0114 - accuracy: 0.9962 - val_loss: 0.1066 - val_accuracy: 0.9747\n",
            "Epoch 11/15\n",
            "1500/1500 [==============================] - 9s 6ms/step - loss: 0.0083 - accuracy: 0.9974 - val_loss: 0.1114 - val_accuracy: 0.9754\n",
            "Epoch 12/15\n",
            "1500/1500 [==============================] - 9s 6ms/step - loss: 0.0102 - accuracy: 0.9968 - val_loss: 0.1085 - val_accuracy: 0.9766\n",
            "Epoch 13/15\n",
            "1500/1500 [==============================] - 9s 6ms/step - loss: 0.0085 - accuracy: 0.9974 - val_loss: 0.1073 - val_accuracy: 0.9804\n",
            "Epoch 14/15\n",
            "1500/1500 [==============================] - 9s 6ms/step - loss: 0.0078 - accuracy: 0.9974 - val_loss: 0.1174 - val_accuracy: 0.9772\n",
            "Epoch 15/15\n",
            "1500/1500 [==============================] - 8s 6ms/step - loss: 0.0056 - accuracy: 0.9983 - val_loss: 0.1209 - val_accuracy: 0.9776\n"
          ]
        }
      ]
    },
    {
      "cell_type": "code",
      "source": [
        "import matplotlib.pyplot as plt\n",
        "\n",
        "plt.plot(history.history['val_accuracy'])\n",
        "plt.plot(history.history[\"accuracy\"])\n",
        "plt.ylabel('accuracy')\n",
        "plt.xlabel('epoch')\n",
        "plt.legend(['val', 'train'], loc='upper left');\n",
        "plt.show()"
      ],
      "metadata": {
        "colab": {
          "base_uri": "https://localhost:8080/",
          "height": 277
        },
        "id": "UiWC_iTMahN2",
        "outputId": "4cbeed3d-4721-42cb-9467-3f93330d8a70"
      },
      "execution_count": 34,
      "outputs": [
        {
          "output_type": "display_data",
          "data": {
            "text/plain": [
              "<Figure size 432x288 with 1 Axes>"
            ],
            "image/png": "[encoded data removed]"
          },
          "metadata": {
            "needs_background": "light"
          }
        }
      ]
    },
    {
      "cell_type": "code",
      "source": [
        "hist2 = model.fit(x_train_flat, y_train, batch_size=32, epochs=1, validation_data=(x_val_flat, y_val), \n",
        "                    verbose=1) "
      ],
      "metadata": {
        "colab": {
          "base_uri": "https://localhost:8080/"
        },
        "id": "O2LJuJI_akRt",
        "outputId": "864516c9-4516-4c15-ab3f-9ae4ba3b9708"
      },
      "execution_count": 35,
      "outputs": [
        {
          "output_type": "stream",
          "name": "stdout",
          "text": [
            "1875/1875 [==============================] - 12s 6ms/step - loss: 0.0319 - accuracy: 0.9918 - val_loss: 26.9373 - val_accuracy: 0.0993\n"
          ]
        }
      ]
    },
    {
      "cell_type": "code",
      "source": [
        "model.compile(loss='sparse_categorical_crossentropy', optimizer=Adam(learning_rate=0.0001), metrics=['accuracy'])\n",
        "hist3 = model.fit(x_train_flat, y_train, batch_size=32, epochs=2, validation_data=(x_val_flat, y_val),\n",
        "                    verbose=0)"
      ],
      "metadata": {
        "id": "inF_x_VBanXp"
      },
      "execution_count": 36,
      "outputs": []
    },
    {
      "cell_type": "code",
      "source": [
        "score = model.evaluate(x_test_flat, y_test, verbose=0)\n",
        "print('Test loss:', score[0])\n",
        "print('Test accuracy:', score[1])"
      ],
      "metadata": {
        "colab": {
          "base_uri": "https://localhost:8080/"
        },
        "id": "TUmpl_11aqih",
        "outputId": "2f6cee85-c41e-48e1-e62c-7778ca886386"
      },
      "execution_count": 37,
      "outputs": [
        {
          "output_type": "stream",
          "name": "stdout",
          "text": [
            "Test loss: 0.0701477900147438\n",
            "Test accuracy: 0.9843000173568726\n"
          ]
        }
      ]
    },
    {
      "cell_type": "code",
      "source": [
        "y_pred = model.predict(x_test_flat)\n",
        "y_pred_ = np.argmax(y_pred, axis = 1)\n",
        "accuracy_score(y_pred_,y_test)"
      ],
      "metadata": {
        "colab": {
          "base_uri": "https://localhost:8080/"
        },
        "id": "I7xPCFfaatsP",
        "outputId": "75963412-758c-4099-e5d1-d1eabc2af5dd"
      },
      "execution_count": 38,
      "outputs": [
        {
          "output_type": "execute_result",
          "data": {
            "text/plain": [
              "0.9843"
            ]
          },
          "metadata": {},
          "execution_count": 38
        }
      ]
    },
    {
      "cell_type": "code",
      "source": [
        "print(\"F1 Score Test:\", f1_score(y_test,y_pred_, average='macro'))\n",
        "print(\"Recall for Test:\", recall_score(y_test,y_pred_, average='macro'))"
      ],
      "metadata": {
        "colab": {
          "base_uri": "https://localhost:8080/"
        },
        "id": "E5NbV79BjI4O",
        "outputId": "d2809b2c-b5de-442b-d881-d82dad958690"
      },
      "execution_count": 39,
      "outputs": [
        {
          "output_type": "stream",
          "name": "stdout",
          "text": [
            "F1 Score Test: 0.9842167809293733\n",
            "Recall for Test: 0.9842088413242438\n"
          ]
        }
      ]
    },
    {
      "cell_type": "code",
      "source": [
        "y_pred = model.predict(x_train_flat) \n",
        "y_pred_ = np.argmax(y_pred, axis = 1)\n",
        "print(\"F1 Score Training:\", f1_score(y_train,y_pred_, average='macro'))\n",
        "print(\"Recall for Training:\", recall_score(y_train,y_pred_, average='macro'))"
      ],
      "metadata": {
        "colab": {
          "base_uri": "https://localhost:8080/"
        },
        "id": "0gy-3Yijn9oz",
        "outputId": "b84ab1db-348a-44ca-e62e-cfbc77cd78a9"
      },
      "execution_count": 41,
      "outputs": [
        {
          "output_type": "stream",
          "name": "stdout",
          "text": [
            "F1 Score Training: 0.9997025565237656\n",
            "Recall for Training: 0.9997003500409949\n"
          ]
        }
      ]
    },
    {
      "cell_type": "markdown",
      "source": [
        "How the performance change did when you changed the layer size, number of units?\n",
        "\n",
        "When I decreased the layer size and changed the number of units the accuracy score increased. And test loss decreased. \n",
        "The second model took more time. \n"
      ],
      "metadata": {
        "id": "Wp_LR54tcGir"
      }
    },
    {
      "cell_type": "markdown",
      "source": [
        "# Report"
      ],
      "metadata": {
        "id": "lUcWFrx8Qnlz"
      }
    },
    {
      "cell_type": "markdown",
      "source": [
        "In this homework, our aim is predicting digits of the given image with two Machine Learning algorithms, Logistic Regression and Neural Networks. I started with Logistic Regression. First, I load and prepare the data. Then, I plot some samples to see how the numbers looks. After that, I reshape the data of the variables into one dimensional array. Next, I encode the labels according to rule via binary encoding. Before starting the regresison, I also splitted training set to create validation set. After finding the final shape of the data, I started the fit the training data on a Logistic Regression model by using Binary Encoding. As hyperparameters, I used solver='lbfgs', max_iter=1000.\n",
        "\n",
        "For the training data, accuracy score is 0.9770833333333333.\n",
        "\n",
        "For the validation data, accuracy score is 0.8995833333333333.\n",
        "\n",
        "For Test data, I got the below informations.\n",
        "- Accuracy score 0.9864\n",
        "- Precision: 0.9629237288135594\n",
        "- Recall: 0.9\n",
        "- F1 Score: 0.9303991811668373\n",
        "- Confusion matrix:\n",
        " [[8955   35]\n",
        " [ 101  909]]\n",
        "\n",
        "After that I start to work with Neural Networks. First I again load the data and reshaped the data into a one-dimensional array. I used label encoding to encode the label. I did two different model as indicated in the homework documents. First one with 64-32-16 units in its hidden layers and the second one 512-10 units in its hidden layers. In the first one, I found \n",
        "\n",
        "- Test loss: 0.09378452599048615\n",
        "- Test accuracy: 0.9776999950408936\n",
        "- F1 Score Test: 0.9775260675509754\n",
        "- Recall for Test: 0.9774459936873848\n",
        "- F1 Score Training: 0.9976855160933829\n",
        "- Recall for Training: 0.9976743447070907\n",
        "\n",
        "and in the second one I found\n",
        "\n",
        "- Test loss: 0.0701477900147438\n",
        "- Test accuracy: 0.9843000173568726\n",
        "- F1 Score Test: 0.9842167809293733\n",
        "- Recall for Test: 0.9842088413242438\n",
        "- F1 Score Training: 0.9997025565237656\n",
        "- Recall for Training: 0.9997003500409949\n",
        "\n",
        "which was better estimation. The second one took more time. \n",
        "\n",
        "When we look at the speeed of the Logistic Regression and Neural Networks, the training part of the Neural Network took more time than Logistic Regression.\n"
      ],
      "metadata": {
        "id": "K0eOk9XGdU2y"
      }
    }
  ]
}